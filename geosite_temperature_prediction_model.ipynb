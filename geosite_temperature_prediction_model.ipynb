{
  "nbformat": 4,
  "nbformat_minor": 0,
  "metadata": {
    "colab": {
      "provenance": [],
      "authorship_tag": "ABX9TyP86GBYdUcIGl9fJZ98q7Je",
      "include_colab_link": true
    },
    "kernelspec": {
      "name": "python3",
      "display_name": "Python 3"
    },
    "language_info": {
      "name": "python"
    }
  },
  "cells": [
    {
      "cell_type": "markdown",
      "metadata": {
        "id": "view-in-github",
        "colab_type": "text"
      },
      "source": [
        "<a href=\"https://colab.research.google.com/github/danielvijill/geothermal/blob/main/geosite_temperature_prediction_model.ipynb\" target=\"_parent\"><img src=\"https://colab.research.google.com/assets/colab-badge.svg\" alt=\"Open In Colab\"/></a>"
      ]
    },
    {
      "cell_type": "markdown",
      "source": [
        "# Modelo de predicción para temperaturas de sitios geotérmicos"
      ],
      "metadata": {
        "id": "BFrNTylbyFSA"
      }
    },
    {
      "cell_type": "markdown",
      "source": [
        "En este modelo sencillo se utiliza una red neuronal completamente conectada con dos capas ocultas, entrenada para predecir una única salida continua a partir de dos entradas. Este modelo se utiliza para predecir las temperaturas de manifestaciones termales a partir de su localización en coordenadas geográficas. La base de datos que se carga contiene 209 instancias de las cuales se conoce la temperatura de 105 de ellas. La tarea del modelo es la de predecir el valor de las temperaturas faltantes."
      ],
      "metadata": {
        "id": "YFUPhnpPyORF"
      }
    },
    {
      "cell_type": "markdown",
      "source": [
        "### Importando librerías y cargando la base de datos"
      ],
      "metadata": {
        "id": "vHNRaA6Oy6wf"
      }
    },
    {
      "cell_type": "code",
      "execution_count": 39,
      "metadata": {
        "id": "8VlGQmqJ-1bi"
      },
      "outputs": [],
      "source": [
        "import pandas as pd\n",
        "import numpy as np\n",
        "import tensorflow as tf"
      ]
    },
    {
      "cell_type": "code",
      "source": [
        "from google.colab import drive\n",
        "drive.mount('/content/drive')"
      ],
      "metadata": {
        "colab": {
          "base_uri": "https://localhost:8080/"
        },
        "id": "lBiOL5Qu_BxK",
        "outputId": "e6dec477-f5bd-476e-b717-d74d0d9b283b"
      },
      "execution_count": 40,
      "outputs": [
        {
          "output_type": "stream",
          "name": "stdout",
          "text": [
            "Drive already mounted at /content/drive; to attempt to forcibly remount, call drive.mount(\"/content/drive\", force_remount=True).\n"
          ]
        }
      ]
    },
    {
      "cell_type": "code",
      "source": [
        "folder_path = '/content/drive/MyDrive/Colab Notebooks'"
      ],
      "metadata": {
        "id": "t5yqFM3w_ECm"
      },
      "execution_count": 41,
      "outputs": []
    },
    {
      "cell_type": "code",
      "source": [
        "csv_file_path = f'{folder_path}/sites.csv'\n",
        "df = pd.read_csv(csv_file_path)\n",
        "print(df.head())"
      ],
      "metadata": {
        "colab": {
          "base_uri": "https://localhost:8080/"
        },
        "id": "ZAg6B1gx_KBY",
        "outputId": "0fc639c5-e207-4499-f42c-0022811c0605"
      },
      "execution_count": 42,
      "outputs": [
        {
          "output_type": "stream",
          "name": "stdout",
          "text": [
            "   ID  Nombre                Cuadrante Departamento Coordenadas UTM Grid  \\\n",
            "0   1     NaN                ARAMECINA    F MORAZAN                44/11   \n",
            "1   2     NaN                ARAMECINA    F MORAZAN                45/14   \n",
            "2   3     NaN                   ARENAL         YORO              100/051   \n",
            "3   4     NaN  AZACUALPA-RIO GUAYAMBRE      OLANCHO                99/00   \n",
            "4   5     NaN  AZACUALPA-RIO GUAYAMBRE      OLANCHO                00/99   \n",
            "\n",
            "   Latitud  Longitud  Temperatura Min  Temperatura Max  \n",
            "0   13.670   -87.509              NaN              NaN  \n",
            "1   13.707   -87.507              NaN              NaN  \n",
            "2   15.422   -86.883             61.0             67.0  \n",
            "3   14.546   -85.992              NaN              NaN  \n",
            "4   14.505   -85.971              NaN              NaN  \n"
          ]
        }
      ]
    },
    {
      "cell_type": "markdown",
      "source": [
        "### Generando el modelo"
      ],
      "metadata": {
        "id": "KLNRorTB5Anp"
      }
    },
    {
      "cell_type": "markdown",
      "source": [
        "Filtramos el DataFrame en dos conjuntos: uno con sitios con temperaturas conocidas y uno con sitios sin temperaturas conocidas"
      ],
      "metadata": {
        "id": "MdspEl6ZzkK1"
      }
    },
    {
      "cell_type": "code",
      "source": [
        "# Filter the DataFrame into two sets: one with known temperatures and one with unknown temperatures\n",
        "df_known = df.dropna(subset=['Temperatura Max'])\n",
        "df_known = df_known.dropna(subset=['Latitud'])\n",
        "df_known = df_known.dropna(subset=['Longitud'])\n",
        "df_unknown = df[df['Temperatura Max'].isna()]"
      ],
      "metadata": {
        "id": "fW8Ei4nT_L2J"
      },
      "execution_count": 43,
      "outputs": []
    },
    {
      "cell_type": "code",
      "source": [
        "print(len(df))\n",
        "print(len(df_known))"
      ],
      "metadata": {
        "colab": {
          "base_uri": "https://localhost:8080/"
        },
        "id": "QbnvtDpg6xGh",
        "outputId": "57b86c21-41ad-4c09-a81a-0ccd860fc507"
      },
      "execution_count": 44,
      "outputs": [
        {
          "output_type": "stream",
          "name": "stdout",
          "text": [
            "209\n",
            "105\n"
          ]
        }
      ]
    },
    {
      "cell_type": "markdown",
      "source": [
        "Definimos las características (entradas) y el objetivo (salida) para los datos conocidos"
      ],
      "metadata": {
        "id": "oQC49tQYz5fr"
      }
    },
    {
      "cell_type": "code",
      "source": [
        "X_train = df_known[['Latitud', 'Longitud']].values\n",
        "y_train = df_known['Temperatura Max'].values"
      ],
      "metadata": {
        "id": "FZSaWa3Uz1uL"
      },
      "execution_count": 45,
      "outputs": []
    },
    {
      "cell_type": "markdown",
      "source": [
        "Definir las características (entrada) para los datos desconocidos (prediremos el objetivo para estos)"
      ],
      "metadata": {
        "id": "-Fcxre670TXn"
      }
    },
    {
      "cell_type": "code",
      "source": [
        "X_predict = df_unknown[['Latitud', 'Longitud']].values"
      ],
      "metadata": {
        "id": "b7jQ0W3cz3bz"
      },
      "execution_count": 46,
      "outputs": []
    },
    {
      "cell_type": "markdown",
      "source": [
        "Creando un modelo simple de TensorFlow (una red neuronal de propagación hacia adelante), la capa definida como ``tf.keras.layers.Dense(1)`` es la capa de salida para la precicción de temperatura"
      ],
      "metadata": {
        "id": "_f2N-WyC02Yl"
      }
    },
    {
      "cell_type": "code",
      "source": [
        "model = tf.keras.Sequential([\n",
        "    tf.keras.layers.Dense(64, activation='relu', input_shape=(2,)),\n",
        "    tf.keras.layers.Dense(64, activation='relu'),\n",
        "    tf.keras.layers.Dense(1)\n",
        "])"
      ],
      "metadata": {
        "colab": {
          "base_uri": "https://localhost:8080/"
        },
        "id": "HAotVE_uAtTt",
        "outputId": "69dbf84f-958d-4c8a-de5c-ce812e7f4ed3"
      },
      "execution_count": 47,
      "outputs": [
        {
          "output_type": "stream",
          "name": "stderr",
          "text": [
            "/usr/local/lib/python3.11/dist-packages/keras/src/layers/core/dense.py:87: UserWarning: Do not pass an `input_shape`/`input_dim` argument to a layer. When using Sequential models, prefer using an `Input(shape)` object as the first layer in the model instead.\n",
            "  super().__init__(activity_regularizer=activity_regularizer, **kwargs)\n"
          ]
        }
      ]
    },
    {
      "cell_type": "markdown",
      "source": [
        "Compilamos y entrenamos el modelo, utilizando Adam como optimizador y error medio cuadrático como función de pérdida"
      ],
      "metadata": {
        "id": "14l2LHkR2t-g"
      }
    },
    {
      "cell_type": "code",
      "source": [
        "model.compile(optimizer='adam', loss='mse') # Using Mean Squared Error as loss\n",
        "\n",
        "model.fit(X_train, y_train, epochs=100, verbose=0)"
      ],
      "metadata": {
        "colab": {
          "base_uri": "https://localhost:8080/"
        },
        "id": "-Iw35hNO2yjC",
        "outputId": "d40eebf5-eebd-41a3-cf94-8abb7eaf198a"
      },
      "execution_count": 48,
      "outputs": [
        {
          "output_type": "execute_result",
          "data": {
            "text/plain": [
              "<keras.src.callbacks.history.History at 0x7b56c4e30090>"
            ]
          },
          "metadata": {},
          "execution_count": 48
        }
      ]
    },
    {
      "cell_type": "markdown",
      "source": [
        "### Obteniendo datos"
      ],
      "metadata": {
        "id": "jIB2PFmF5IQP"
      }
    },
    {
      "cell_type": "markdown",
      "source": [
        "Ahora predecimos las temperaturas para los datos desconocidos con el modelo"
      ],
      "metadata": {
        "id": "lxczz7ws3N2o"
      }
    },
    {
      "cell_type": "code",
      "source": [
        "predicted_temperatures = model.predict(X_predict)"
      ],
      "metadata": {
        "colab": {
          "base_uri": "https://localhost:8080/"
        },
        "id": "0PdQGQe_3WjK",
        "outputId": "132f70ab-6be0-4c11-a553-f08620fc1507"
      },
      "execution_count": 49,
      "outputs": [
        {
          "output_type": "stream",
          "name": "stdout",
          "text": [
            "\u001b[1m4/4\u001b[0m \u001b[32m━━━━━━━━━━━━━━━━━━━━\u001b[0m\u001b[37m\u001b[0m \u001b[1m0s\u001b[0m 24ms/step\n"
          ]
        }
      ]
    },
    {
      "cell_type": "markdown",
      "source": [
        "Actualizamos los datos en el DataFrame con los valores predichos por el modelo"
      ],
      "metadata": {
        "id": "zhuhlpFU3afG"
      }
    },
    {
      "cell_type": "code",
      "source": [
        "df_predicted = df.copy()\n",
        "df_predicted.loc[df_unknown.index, 'Temperatura Max'] = predicted_temperatures.flatten()\n",
        "print(df_predicted.head())"
      ],
      "metadata": {
        "colab": {
          "base_uri": "https://localhost:8080/"
        },
        "id": "VHGCY6WVBLr1",
        "outputId": "c14eec6b-3017-4920-bdd5-2e650d6143aa"
      },
      "execution_count": 50,
      "outputs": [
        {
          "output_type": "stream",
          "name": "stdout",
          "text": [
            "   ID  Nombre                Cuadrante Departamento Coordenadas UTM Grid  \\\n",
            "0   1     NaN                ARAMECINA    F MORAZAN                44/11   \n",
            "1   2     NaN                ARAMECINA    F MORAZAN                45/14   \n",
            "2   3     NaN                   ARENAL         YORO              100/051   \n",
            "3   4     NaN  AZACUALPA-RIO GUAYAMBRE      OLANCHO                99/00   \n",
            "4   5     NaN  AZACUALPA-RIO GUAYAMBRE      OLANCHO                00/99   \n",
            "\n",
            "   Latitud  Longitud  Temperatura Min  Temperatura Max  \n",
            "0   13.670   -87.509              NaN        56.714199  \n",
            "1   13.707   -87.507              NaN        56.721058  \n",
            "2   15.422   -86.883             61.0        67.000000  \n",
            "3   14.546   -85.992              NaN        55.978130  \n",
            "4   14.505   -85.971              NaN        55.956345  \n"
          ]
        }
      ]
    },
    {
      "cell_type": "markdown",
      "source": [
        "Finalmente guardamos el Data Frame como un archivo csv para su futura utilización"
      ],
      "metadata": {
        "id": "J5ns4Fqi4y_d"
      }
    },
    {
      "cell_type": "code",
      "source": [
        "df_predicted.to_csv('predicted_temperatures.csv', index=False)"
      ],
      "metadata": {
        "id": "fXrLRTUHFW9o"
      },
      "execution_count": 51,
      "outputs": []
    }
  ]
}